{
 "cells": [
  {
   "cell_type": "code",
   "execution_count": 6,
   "id": "0235147e",
   "metadata": {},
   "outputs": [
    {
     "name": "stdout",
     "output_type": "stream",
     "text": [
      "{'Ahmed', 'mohamed', 'waleed', 'hussien', 'zaki'}\n"
     ]
    }
   ],
   "source": [
    "myset ={\"Ahmed\",\"mohamed\",\"waleed\",\"hussien\",\"zaki\"}\n",
    "print(myset)"
   ]
  },
  {
   "cell_type": "code",
   "execution_count": 16,
   "id": "dcfc3804",
   "metadata": {},
   "outputs": [
    {
     "name": "stdout",
     "output_type": "stream",
     "text": [
      "{1, 2, 3, 4, 5, 6}\n"
     ]
    }
   ],
   "source": [
    "a={1,2,3}\n",
    "b={4,5,6}\n",
    "c={\"mohamed\",\"waleed\"}\n",
    "print(a.union(b))"
   ]
  },
  {
   "cell_type": "code",
   "execution_count": 19,
   "id": "10078829",
   "metadata": {},
   "outputs": [
    {
     "name": "stdout",
     "output_type": "stream",
     "text": [
      "{1, 2, 3, 4, 'mohamed'}\n"
     ]
    }
   ],
   "source": [
    "a={1,2,3,4}\n",
    "a.add(\"mohamed\")\n",
    "print(a)"
   ]
  },
  {
   "cell_type": "code",
   "execution_count": 23,
   "id": "bac91f55",
   "metadata": {},
   "outputs": [
    {
     "name": "stdout",
     "output_type": "stream",
     "text": [
      "{3, 4, 5}\n"
     ]
    }
   ],
   "source": [
    "a={1,3,4,5}\n",
    "a.discard(1)\n",
    "print(a)"
   ]
  },
  {
   "cell_type": "code",
   "execution_count": 50,
   "id": "770dec2b",
   "metadata": {},
   "outputs": [
    {
     "name": "stdout",
     "output_type": "stream",
     "text": [
      "write your name : mohamed\n",
      "write your age : 12\n",
      "your name is correct:  mohamedyour age is correct : 12\n"
     ]
    }
   ],
   "source": [
    "name=input(\"write your name : \")\n",
    "age=input(\"write your age : \")\n",
    "def fristfunction(name,age):\n",
    "    print(\"your name is correct:  \"+name+  \"your age is correct : \"+str(age))\n",
    "fristfunction(name,age)"
   ]
  },
  {
   "cell_type": "code",
   "execution_count": 60,
   "id": "9b5fd805",
   "metadata": {},
   "outputs": [
    {
     "name": "stdout",
     "output_type": "stream",
     "text": [
      "15\n"
     ]
    }
   ],
   "source": [
    "def clac(num1,num2):\n",
    "    num1+num2\n",
    "    return num1+num2\n",
    "print(clac(10,5))   "
   ]
  },
  {
   "cell_type": "code",
   "execution_count": 64,
   "id": "9eea9192",
   "metadata": {},
   "outputs": [
    {
     "name": "stdout",
     "output_type": "stream",
     "text": [
      "your age in days is: 5110 days\n"
     ]
    }
   ],
   "source": [
    "#احسب عمرك بالايام \n",
    "def clocdays(age):    \n",
    "    return \"your age in days is: \"+ str(age*365)+ \" \" +\"days\"\n",
    "print(clocdays (14))"
   ]
  },
  {
   "cell_type": "code",
   "execution_count": 68,
   "id": "1f0a9c54",
   "metadata": {},
   "outputs": [
    {
     "name": "stdout",
     "output_type": "stream",
     "text": [
      "your age in hours is: 183960hours\n"
     ]
    }
   ],
   "source": [
    "#احب عمرك بالساعات \n",
    "def clochours(age):\n",
    "    return \"your age in hours is:\" +\" \"+str(age*365*24)+\"hours\"\n",
    "print(clochours(21))"
   ]
  },
  {
   "cell_type": "code",
   "execution_count": 75,
   "id": "ec25b3ce",
   "metadata": {},
   "outputs": [
    {
     "name": "stdout",
     "output_type": "stream",
     "text": [
      "enter your age: 12\n",
      "your age in hours is: 105120hours\n"
     ]
    }
   ],
   "source": [
    "#احب عمرك بالساعات \n",
    "def clochours(age):\n",
    "    return \"your age in hours is:\" +\" \"+str(age*365*24)+\"hours\"\n",
    "print(clochours(int(input(\"enter your age: \"))))"
   ]
  },
  {
   "cell_type": "code",
   "execution_count": null,
   "id": "6d776875",
   "metadata": {},
   "outputs": [],
   "source": [
    "ahmed=int(input(\"enter your exam angle: \"))\n",
    "if ahmed >= 90:\n",
    "    print(\"excellent\")\n",
    "elif ahmed >= 80:\n",
    "    print(\"very good\")\n",
    "elif ahmed >= 70:\n",
    "    print(\"good\")\n",
    "elif ahmed >=50:\n",
    "    print(\"succesfull\")\n",
    "else:\n",
    "    print(\"faild exam\")"
   ]
  },
  {
   "cell_type": "code",
   "execution_count": null,
   "id": "935410b6",
   "metadata": {},
   "outputs": [],
   "source": [
    "#ألةحاسبة\n",
    "import operator\n",
    "\n",
    "\n",
    "num1=float(input(\"enter the frist number: \"))\n",
    "operator=input()\n",
    "num2=float(input(\"enter the second number:\"))\n",
    "if operator==\"+\":\n",
    "    print(num1+num2)\n",
    "elif operator==\"-\":\n",
    "    print(num1-num2)\n",
    "elif operator==\"*\":\n",
    "    print(num1*num2)\n",
    "elif operator==\"/\":\n",
    "    print(num1/num2)\n",
    "elif operator==\"pow\":\n",
    "    print(num1**num2)\n",
    "else:\n",
    "    print(\"math error\")"
   ]
  },
  {
   "cell_type": "code",
   "execution_count": null,
   "id": "607e59f5",
   "metadata": {},
   "outputs": [],
   "source": [
    "#كودلطباعةرقم من 1 إلى عشرة\n",
    "#الطريقةالاولى\n",
    "for i in range(1,11):\n",
    "    print(i)\n",
    "#الطريقةالثانية\n",
    "i=1\n",
    "while i<=10:\n",
    "    print(i)\n",
    "    i+=1"
   ]
  },
  {
   "cell_type": "code",
   "execution_count": null,
   "id": "ac4408f1",
   "metadata": {},
   "outputs": [],
   "source": [
    "قاموس\n",
    "info={\n",
    "   \"name\":\"ahmed\",\n",
    "    \"age\":\"25\",\n",
    "    \"country\":\"egypt\"\n",
    "}\n",
    "for x in info:\n",
    "  if info[x]==\"egypt\":\n",
    "   print(info [x],\"i dont love egypt \" )\n",
    "else:\n",
    "  print(\"ilove you\")"
   ]
  },
  {
   "cell_type": "code",
   "execution_count": null,
   "id": "81c34386",
   "metadata": {},
   "outputs": [],
   "source": [
    "      لعبة الاسئلة\n",
    "#secrect_answer=\"Jerusalem\"\n",
    "#count=0\n",
    "#limit=3\n",
    "#lose=False\n",
    "#while secrect_answer!=answer and not lose:\n",
    "   # if count<limit:\n",
    "        #answer=input(\"what is capital of Palestine\")\n",
    "       # count=+1\n",
    "    #else:\n",
    "     #   lose=True \n",
    "    #if lose:\n",
    "     #else:\n",
    "        #print(\"your win\")\n",
    "\n"
   ]
  },
  {
   "cell_type": "code",
   "execution_count": null,
   "id": "0401f827",
   "metadata": {},
   "outputs": [],
   "source": [
    "#how to reading file in phyton\n",
    "files=open(\"C:\\\\Users\\\\HP\\\\Desktop\\huk.txt\",\"r\")\n",
    "\n",
    "print(files.read())\n",
    "files.close()"
   ]
  },
  {
   "cell_type": "code",
   "execution_count": null,
   "id": "afdfedf0",
   "metadata": {},
   "outputs": [],
   "source": [
    "#اول #تاسك يقولك حول# ملف json غلى csv\n",
    "import pands as pd\n",
    "file=pd.read_json(\"C:\\Users\\HP\\Desktop\\dwsample1-json.json\")"
   ]
  },
  {
   "cell_type": "code",
   "execution_count": null,
   "id": "7edb7d4b",
   "metadata": {},
   "outputs": [],
   "source": []
  }
 ],
 "metadata": {
  "kernelspec": {
   "display_name": "Python 3 (ipykernel)",
   "language": "python",
   "name": "python3"
  },
  "language_info": {
   "codemirror_mode": {
    "name": "ipython",
    "version": 3
   },
   "file_extension": ".py",
   "mimetype": "text/x-python",
   "name": "python",
   "nbconvert_exporter": "python",
   "pygments_lexer": "ipython3",
   "version": "3.11.5"
  }
 },
 "nbformat": 4,
 "nbformat_minor": 5
}
